{
 "cells": [
  {
   "cell_type": "code",
   "execution_count": null,
   "metadata": {},
   "outputs": [],
   "source": [
    "import smbus\n",
    "import time\n",
    "\n",
    "bus = smbus.SMBus(0)\n",
    "address = 0x04\n",
    "\n",
    "def read_number():\n",
    "    return bus.read_byte(address)\n",
    "\n",
    "while True:\n",
    "    number = read_number()\n",
    "    # Interpret the received byte as a boolean\n",
    "    is_black = bool(number)\n",
    "    print(\"IR sensor detects black: \", is_black)\n",
    "    time.sleep(1)"
   ]
  }
 ],
 "metadata": {
  "kernelspec": {
   "display_name": "Python 3",
   "language": "python",
   "name": "python3"
  },
  "language_info": {
   "codemirror_mode": {
    "name": "ipython",
    "version": 3
   },
   "file_extension": ".py",
   "mimetype": "text/x-python",
   "name": "python",
   "nbconvert_exporter": "python",
   "pygments_lexer": "ipython3",
   "version": "3.6.9"
  }
 },
 "nbformat": 4,
 "nbformat_minor": 4
}
